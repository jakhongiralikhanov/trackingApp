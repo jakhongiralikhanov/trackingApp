{
 "cells": [
  {
   "cell_type": "code",
   "execution_count": 4,
   "metadata": {},
   "outputs": [
    {
     "name": "stdout",
     "output_type": "stream",
     "text": [
      "10 400 сум:DURACELL батарейка  AA 2 шт.  ALKALINE 23036\n",
      "10 400 сум:VIKO тройник с заземлением\n",
      "32 900 сум:NILSON удлинитель 2 гнезда 5M\n",
      "32 900 сум:Кронштейн для TV 322MM LUXSTAR 13/37\n",
      "63 900 сум:CAMELION SUPER HEAVY DUTY батарейка 1B AA\n",
      "63 900 сум:G-SYSTEMI колонки G-101C\n",
      "52 900 сум:ZORNWEE мышка для компьютера W550\n",
      "52 900 сум:ENERGIZER LITHIUM батарейка 1 шт EMG904271\n",
      "2 500 сум:ENERGIZER MAX PLUS  батарейка 4шт AAA-LR03\n",
      "2 500 сум:Мышь компьютерная Deli 3716\n"
     ]
    }
   ],
   "source": [
    "import requests\n",
    "from bs4 import BeautifulSoup\n",
    "import pandas as pd\n",
    "import numpy as np\n",
    "URL = \"https://hm.uz/ofisnaya-tekhnika/\"\n",
    "headers ={\"User-Agent\": 'Mozilla/5.0 (Windows NT 6.3; Win64; x64) AppleWebKit/537.36 (KHTML, like Gecko) Chrome/80.0.3987.163 Safari/537.36'}\n",
    "\n",
    "page = requests.get(URL, headers=headers)\n",
    "soup = BeautifulSoup(page.content,'html.parser')\n",
    "\n",
    "title1 = soup.find_all(attrs={\"item__title\"})\n",
    "price1 = soup.find_all(attrs={\"item__prc-w\"})\n",
    "\n",
    "titles = [x.get_text() for x in title1]\n",
    "prices = [y.get_text() for y in price1]\n",
    "\n",
    "titles = np.array(titles)\n",
    "prices = np.array(prices)\n",
    "\n",
    "\n",
    "# indices = np.argsort(titles)\n",
    "# titles = titles[indices]\n",
    "# prices = prices[indices]\n",
    "\n",
    "for i in range(10):\n",
    "    print(\"{}:{}\".format(prices[i],titles[i]))#VIEWS OF LIST \n",
    "\n",
    "# df = pd.DataFrame({\"Narxlar \":prices,\"Maxsulotlar \":titles})\n",
    "# df.to_csv(\"birinchiCrawled_data.csv\",index=False)\n",
    "\n",
    "\n",
    "# print(\"Crawl Natijasi CSV filega saqlandi!\")\n"
   ]
  },
  {
   "cell_type": "code",
   "execution_count": null,
   "metadata": {},
   "outputs": [],
   "source": []
  }
 ],
 "metadata": {
  "kernelspec": {
   "display_name": "Python 3",
   "language": "python",
   "name": "python3"
  },
  "language_info": {
   "codemirror_mode": {
    "name": "ipython",
    "version": 3
   },
   "file_extension": ".py",
   "mimetype": "text/x-python",
   "name": "python",
   "nbconvert_exporter": "python",
   "pygments_lexer": "ipython3",
   "version": "3.7.6"
  }
 },
 "nbformat": 4,
 "nbformat_minor": 4
}
