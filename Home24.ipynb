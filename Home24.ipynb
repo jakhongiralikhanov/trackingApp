{
 "cells": [
  {
   "cell_type": "code",
   "execution_count": 3,
   "metadata": {},
   "outputs": [
    {
     "name": "stdout",
     "output_type": "stream",
     "text": [
      "944 000 сум:Гладильная доска складная на роликах с корзинами лдсп\n",
      "275 000 сум:Гладильная доска на роликах с корзинами\n",
      "383 000 сум:Стол МЯТА 80х80/75 4 ножки\n",
      "383 000 сум:Стол МЯТА 80х80/75\n",
      "318 000 сум:Стол МЯТА 160х80/75\n",
      "503 000 сум:Казан для плова Kukmara к1100(110л)\n",
      "536 000 сум:Казан для плова Kukmara к120(12л)\n",
      "147 000 сум:Казан для плова Kukmara к120(Коричневый,12л)\n",
      "239 000 сум:Казан для плова Kukmara к120(Чёрный,12л)\n",
      "239 000 сум:Казан для плова Kukmara к150(15л)\n"
     ]
    }
   ],
   "source": [
    "import requests\n",
    "from bs4 import BeautifulSoup\n",
    "import pandas as pd\n",
    "import numpy as np\n",
    "URL = \"http://home24.uz/pocuda\"\n",
    "headers ={\"User-Agent\": 'Mozilla/5.0 (Windows NT 6.3; Win64; x64) AppleWebKit/537.36 (KHTML, like Gecko) Chrome/80.0.3987.163 Safari/537.36'}\n",
    "\n",
    "page = requests.get(URL, headers=headers)\n",
    "soup = BeautifulSoup(page.content,'html.parser')\n",
    "\n",
    "title1 = soup.find_all(attrs={\"name\"})\n",
    "price1 = soup.find_all(attrs={\"special-price\"})\n",
    "\n",
    "titles = [x.get_text() for x in title1]\n",
    "prices = [y.get_text() for y in price1]\n",
    "\n",
    "titles = np.array(titles)\n",
    "prices = np.array(prices)\n",
    "\n",
    "\n",
    "# indices = np.argsort(titles)\n",
    "# titles = titles[indices]\n",
    "# prices = prices[indices]\n",
    "\n",
    "for i in range(10):\n",
    "    print(\"{}:{}\".format(prices[i],titles[i]))#VIEWS OF LIST \n",
    "\n",
    "# df = pd.DataFrame({\"Narxlar \":prices,\"Maxsulotlar \":titles})\n",
    "# df.to_csv(\"birinchiCrawled_data.csv\",index=False)\n",
    "\n",
    "\n",
    "# print(\"Crawl Natijasi CSV filega saqlandi!\")"
   ]
  },
  {
   "cell_type": "code",
   "execution_count": null,
   "metadata": {},
   "outputs": [],
   "source": []
  },
  {
   "cell_type": "code",
   "execution_count": null,
   "metadata": {},
   "outputs": [],
   "source": []
  }
 ],
 "metadata": {
  "kernelspec": {
   "display_name": "Python 3",
   "language": "python",
   "name": "python3"
  },
  "language_info": {
   "codemirror_mode": {
    "name": "ipython",
    "version": 3
   },
   "file_extension": ".py",
   "mimetype": "text/x-python",
   "name": "python",
   "nbconvert_exporter": "python",
   "pygments_lexer": "ipython3",
   "version": "3.7.6"
  }
 },
 "nbformat": 4,
 "nbformat_minor": 4
}
