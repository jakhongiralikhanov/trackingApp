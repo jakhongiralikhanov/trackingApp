{
 "cells": [
  {
   "cell_type": "code",
   "execution_count": 3,
   "metadata": {},
   "outputs": [
    {
     "name": "stdout",
     "output_type": "stream",
     "text": [
      "15 690 сум. за  1 шт(15 690 сум. за 1 шт):Арахис в сахаре 500г\n",
      "15 900 сум. за  1 кг(15 900 сум. за 1 кг):Довучча, вес\n",
      "47 990 сум. за  1 кг(47 990 сум. за 1 кг):Перец болгарский белый, вес\n",
      "15 590 сум. за  1 кг(15 590 сум. за 1 кг):Гранат отборный, вес\n",
      "1 490 сум. за  1 шт(1 490 сум. за 1 шт):Щавель, пучок\n",
      "13 990 сум. за  1 кг(13 990 сум. за 1 кг):Яблоко Симиренко, вес\n",
      "8 990 сум. за  1 кг(8 990 сум. за 1 кг):Огурцы Рава, вес\n",
      "28 990 сум. за  1 кг(28 990 сум. за 1 кг):Апельсин Египет, вес\n",
      "15 590 сум. за  1 кг(15 590 сум. за 1 кг):Мандарины Murcott, вес\n",
      "90 990 сум. за  1 шт(90 990 сум. за 1 шт):Кешью Mazali 500г\n"
     ]
    }
   ],
   "source": [
    "import requests\n",
    "from bs4 import BeautifulSoup\n",
    "import pandas as pd\n",
    "import numpy as np\n",
    "URL = \"https://lebazar.uz/store/korzinka-uz-7/shedevr-78/ovoshi-i-frukti-84/products\"\n",
    "headers ={\"User-Agent\": 'Mozilla/5.0 (Windows NT 6.3; Win64; x64) AppleWebKit/537.36 (KHTML, like Gecko) Chrome/80.0.3987.163 Safari/537.36'}\n",
    "\n",
    "page = requests.get(URL, headers=headers)\n",
    "soup = BeautifulSoup(page.content,'html.parser')\n",
    "\n",
    "title1 = soup.find_all(attrs={\"product-title\"})\n",
    "price1 = soup.find_all(attrs={\"product__price clearfix\"})\n",
    "\n",
    "titles = [x.get_text() for x in title1]\n",
    "prices = [y.get_text() for y in price1]\n",
    "\n",
    "titles = np.array(titles)\n",
    "prices = np.array(prices)\n",
    "\n",
    "\n",
    "# indices = np.argsort(titles)\n",
    "# titles = titles[indices]\n",
    "# prices = prices[indices]\n",
    "\n",
    "for i in range(10):\n",
    "    print(\"{}:{}\".format(prices[i],titles[i]))#VIEWS OF LIST \n",
    "\n",
    "# df = pd.DataFrame({\"Narxlar \":prices,\"Maxsulotlar \":titles})\n",
    "# df.to_csv(\"birinchiCrawled_data.csv\",index=False)\n",
    "\n",
    "\n",
    "# print(\"Crawl Natijasi CSV filega saqlandi!\")\n"
   ]
  },
  {
   "cell_type": "code",
   "execution_count": null,
   "metadata": {},
   "outputs": [],
   "source": []
  }
 ],
 "metadata": {
  "kernelspec": {
   "display_name": "Python 3",
   "language": "python",
   "name": "python3"
  },
  "language_info": {
   "codemirror_mode": {
    "name": "ipython",
    "version": 3
   },
   "file_extension": ".py",
   "mimetype": "text/x-python",
   "name": "python",
   "nbconvert_exporter": "python",
   "pygments_lexer": "ipython3",
   "version": "3.7.6"
  }
 },
 "nbformat": 4,
 "nbformat_minor": 4
}
