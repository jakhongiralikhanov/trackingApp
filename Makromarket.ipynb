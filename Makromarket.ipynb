{
 "cells": [
  {
   "cell_type": "code",
   "execution_count": 5,
   "metadata": {},
   "outputs": [
    {
     "name": "stdout",
     "output_type": "stream",
     "text": [
      "18 990 Сум:Бананы, кг\n",
      "25 590 Сум:\n",
      "49 990 Сум:Лимоны Ташкент, кг\n",
      "14 990 Сум:Мандарины Пакистан, кг\n",
      "20 590 Сум:Яблоки Беш юлдуз, кг\n",
      "17 590 Сум:\n",
      "15 990 Сум:\n",
      "3 950 Сум:Картофель белый, кг\n",
      "5 190 Сум:\n",
      "3 950 Сум:Картофель красный, кг\n",
      "5 190 Сум:\n",
      "2 990 Сум:Лук репчатый, кг\n",
      "3 090 Сум:\n",
      "2 790 Сум:\n",
      "3 790 Сум:\n",
      "10 490 Сум:Огурцы рава, кг\n",
      "13 990 Сум:Помидоры розовые, кг\n",
      "1 090 Сум:Зелень ассорти, шт\n"
     ]
    },
    {
     "ename": "IndexError",
     "evalue": "index 18 is out of bounds for axis 0 with size 18",
     "output_type": "error",
     "traceback": [
      "\u001b[1;31m---------------------------------------------------------------------------\u001b[0m",
      "\u001b[1;31mIndexError\u001b[0m                                Traceback (most recent call last)",
      "\u001b[1;32m<ipython-input-5-ac5575467204>\u001b[0m in \u001b[0;36m<module>\u001b[1;34m\u001b[0m\n\u001b[0;32m     24\u001b[0m \u001b[1;33m\u001b[0m\u001b[0m\n\u001b[0;32m     25\u001b[0m \u001b[1;32mfor\u001b[0m \u001b[0mi\u001b[0m \u001b[1;32min\u001b[0m \u001b[0mrange\u001b[0m\u001b[1;33m(\u001b[0m\u001b[1;36m20\u001b[0m\u001b[1;33m)\u001b[0m\u001b[1;33m:\u001b[0m\u001b[1;33m\u001b[0m\u001b[1;33m\u001b[0m\u001b[0m\n\u001b[1;32m---> 26\u001b[1;33m     \u001b[0mprint\u001b[0m\u001b[1;33m(\u001b[0m\u001b[1;34m\"{}:{}\"\u001b[0m\u001b[1;33m.\u001b[0m\u001b[0mformat\u001b[0m\u001b[1;33m(\u001b[0m\u001b[0mprices\u001b[0m\u001b[1;33m[\u001b[0m\u001b[0mi\u001b[0m\u001b[1;33m]\u001b[0m\u001b[1;33m,\u001b[0m\u001b[0mtitles\u001b[0m\u001b[1;33m[\u001b[0m\u001b[0mi\u001b[0m\u001b[1;33m]\u001b[0m\u001b[1;33m)\u001b[0m\u001b[1;33m)\u001b[0m\u001b[1;33m\u001b[0m\u001b[1;33m\u001b[0m\u001b[0m\n\u001b[0m\u001b[0;32m     27\u001b[0m \u001b[1;33m\u001b[0m\u001b[0m\n\u001b[0;32m     28\u001b[0m \u001b[1;31m# df = pd.DataFrame({\"Narxlar \":prices,\"Maxsulotlar \":titles})\u001b[0m\u001b[1;33m\u001b[0m\u001b[1;33m\u001b[0m\u001b[1;33m\u001b[0m\u001b[0m\n",
      "\u001b[1;31mIndexError\u001b[0m: index 18 is out of bounds for axis 0 with size 18"
     ]
    }
   ],
   "source": [
    "import requests\n",
    "from bs4 import BeautifulSoup\n",
    "import pandas as pd\n",
    "import numpy as np\n",
    "URL = \"https://makromarket.uz/categories/frukty-i-ovoshchi\"\n",
    "headers ={\"User-Agent\": 'Mozilla/5.0 (Windows NT 6.3; Win64; x64) AppleWebKit/537.36 (KHTML, like Gecko) Chrome/80.0.3987.163 Safari/537.36'}\n",
    "\n",
    "page = requests.get(URL, headers=headers)\n",
    "soup = BeautifulSoup(page.content,'html.parser')\n",
    "\n",
    "title1 = soup.find_all(attrs={\"goods-item-name\"})\n",
    "price1 = soup.find_all(attrs={\"card-new-price\"})\n",
    "\n",
    "titles = [x.get_text() for x in title1]\n",
    "prices = [y.get_text() for y in price1]\n",
    "\n",
    "titles = np.array(titles)\n",
    "prices = np.array(prices)\n",
    "\n",
    "\n",
    "# indices = np.argsort(titles)\n",
    "# titles = titles[indices]\n",
    "# prices = prices[indices]\n",
    "\n",
    "for i in range(20):\n",
    "    print(\"{}:{}\".format(prices[i],titles[i]))#VIEWS OF LIST \n",
    "\n",
    "# df = pd.DataFrame({\"Narxlar \":prices,\"Maxsulotlar \":titles})\n",
    "# df.to_csv(\"birinchiCrawled_data.csv\",index=False)\n",
    "\n",
    "\n",
    "# print(\"Crawl Natijasi CSV filega saqlandi!\")\n"
   ]
  },
  {
   "cell_type": "code",
   "execution_count": null,
   "metadata": {},
   "outputs": [],
   "source": []
  }
 ],
 "metadata": {
  "kernelspec": {
   "display_name": "Python 3",
   "language": "python",
   "name": "python3"
  },
  "language_info": {
   "codemirror_mode": {
    "name": "ipython",
    "version": 3
   },
   "file_extension": ".py",
   "mimetype": "text/x-python",
   "name": "python",
   "nbconvert_exporter": "python",
   "pygments_lexer": "ipython3",
   "version": "3.7.6"
  }
 },
 "nbformat": 4,
 "nbformat_minor": 4
}
